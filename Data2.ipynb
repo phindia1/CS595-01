{
 "cells": [
  {
   "cell_type": "markdown",
   "metadata": {},
   "source": [
    "# Task : Task is to predict whether a room is occupied or not on basis of tempreture,light,humidity,co2 presence in the room.\n",
    "\n",
    "\n",
    "# Abstract : Experimental data used for binary classification (room occupancy) from Temperature,Humidity,Light and CO2.\n",
    "\n",
    "# Attribute Information:\n",
    "### Temperature, in Celsius\n",
    "### Relative Humidity, in % \n",
    "### Light, in Lux\n",
    "### CO2, in ppm\n",
    "### Humidity Ratio, Derived quantity from temperature and relative humidity, in kgwater-vapor/kg-air \n",
    "### Occupancy, 0 or 1, 0 for not occupied, 1 for occupied status\n",
    "\n",
    "# Data Explaination: Here we have to predict if a room is occupied or not on basis of different factors such as :amount of tempereture in room, presence of light, amount of CO2 in room, humidity and humidity ratio. There are total 5 features in data on which occupency in room is decided.\n",
    "\n",
    "\n",
    " \n"
   ]
  },
  {
   "cell_type": "code",
   "execution_count": 1,
   "metadata": {
    "collapsed": true
   },
   "outputs": [],
   "source": [
    "# data analysis and wrangling\n",
    "import pandas as pd\n",
    "import numpy as np"
   ]
  },
  {
   "cell_type": "code",
   "execution_count": 2,
   "metadata": {
    "collapsed": false
   },
   "outputs": [],
   "source": [
    "train = pd.read_csv(\"C:\\\\Users\\\\Parth\\\\Desktop\\Sem 3\\\\Untitled Folder\\\\datatraining.txt\")"
   ]
  },
  {
   "cell_type": "code",
   "execution_count": 3,
   "metadata": {
    "collapsed": false
   },
   "outputs": [
    {
     "name": "stdout",
     "output_type": "stream",
     "text": [
      "['date' 'Temperature' 'Humidity' 'Light' 'CO2' 'HumidityRatio' 'Occupancy']\n"
     ]
    }
   ],
   "source": [
    "print(train.columns.values)"
   ]
  },
  {
   "cell_type": "code",
   "execution_count": 4,
   "metadata": {
    "collapsed": true
   },
   "outputs": [],
   "source": [
    "del train ['date']"
   ]
  },
  {
   "cell_type": "code",
   "execution_count": 5,
   "metadata": {
    "collapsed": false
   },
   "outputs": [
    {
     "data": {
      "text/html": [
       "<div>\n",
       "<table border=\"1\" class=\"dataframe\">\n",
       "  <thead>\n",
       "    <tr style=\"text-align: right;\">\n",
       "      <th></th>\n",
       "      <th>Temperature</th>\n",
       "      <th>Humidity</th>\n",
       "      <th>Light</th>\n",
       "      <th>CO2</th>\n",
       "      <th>HumidityRatio</th>\n",
       "      <th>Occupancy</th>\n",
       "    </tr>\n",
       "  </thead>\n",
       "  <tbody>\n",
       "    <tr>\n",
       "      <th>1</th>\n",
       "      <td>23.18</td>\n",
       "      <td>27.2720</td>\n",
       "      <td>426.0</td>\n",
       "      <td>721.25</td>\n",
       "      <td>0.004793</td>\n",
       "      <td>1</td>\n",
       "    </tr>\n",
       "    <tr>\n",
       "      <th>2</th>\n",
       "      <td>23.15</td>\n",
       "      <td>27.2675</td>\n",
       "      <td>429.5</td>\n",
       "      <td>714.00</td>\n",
       "      <td>0.004783</td>\n",
       "      <td>1</td>\n",
       "    </tr>\n",
       "    <tr>\n",
       "      <th>3</th>\n",
       "      <td>23.15</td>\n",
       "      <td>27.2450</td>\n",
       "      <td>426.0</td>\n",
       "      <td>713.50</td>\n",
       "      <td>0.004779</td>\n",
       "      <td>1</td>\n",
       "    </tr>\n",
       "    <tr>\n",
       "      <th>4</th>\n",
       "      <td>23.15</td>\n",
       "      <td>27.2000</td>\n",
       "      <td>426.0</td>\n",
       "      <td>708.25</td>\n",
       "      <td>0.004772</td>\n",
       "      <td>1</td>\n",
       "    </tr>\n",
       "    <tr>\n",
       "      <th>5</th>\n",
       "      <td>23.10</td>\n",
       "      <td>27.2000</td>\n",
       "      <td>426.0</td>\n",
       "      <td>704.50</td>\n",
       "      <td>0.004757</td>\n",
       "      <td>1</td>\n",
       "    </tr>\n",
       "  </tbody>\n",
       "</table>\n",
       "</div>"
      ],
      "text/plain": [
       "   Temperature  Humidity  Light     CO2  HumidityRatio  Occupancy\n",
       "1        23.18   27.2720  426.0  721.25       0.004793          1\n",
       "2        23.15   27.2675  429.5  714.00       0.004783          1\n",
       "3        23.15   27.2450  426.0  713.50       0.004779          1\n",
       "4        23.15   27.2000  426.0  708.25       0.004772          1\n",
       "5        23.10   27.2000  426.0  704.50       0.004757          1"
      ]
     },
     "execution_count": 5,
     "metadata": {},
     "output_type": "execute_result"
    }
   ],
   "source": [
    "train.head()"
   ]
  },
  {
   "cell_type": "code",
   "execution_count": 6,
   "metadata": {
    "collapsed": false
   },
   "outputs": [],
   "source": [
    "temp_mean = train ['Temperature'].mean()"
   ]
  },
  {
   "cell_type": "code",
   "execution_count": 7,
   "metadata": {
    "collapsed": false
   },
   "outputs": [
    {
     "data": {
      "text/html": [
       "<div>\n",
       "<table border=\"1\" class=\"dataframe\">\n",
       "  <thead>\n",
       "    <tr style=\"text-align: right;\">\n",
       "      <th></th>\n",
       "      <th>Temperature</th>\n",
       "      <th>Humidity</th>\n",
       "      <th>Light</th>\n",
       "      <th>CO2</th>\n",
       "      <th>HumidityRatio</th>\n",
       "      <th>Occupancy</th>\n",
       "    </tr>\n",
       "  </thead>\n",
       "  <tbody>\n",
       "    <tr>\n",
       "      <th>1</th>\n",
       "      <td>23.18</td>\n",
       "      <td>27.2720</td>\n",
       "      <td>426.0</td>\n",
       "      <td>721.25</td>\n",
       "      <td>0.004793</td>\n",
       "      <td>1</td>\n",
       "    </tr>\n",
       "    <tr>\n",
       "      <th>2</th>\n",
       "      <td>23.15</td>\n",
       "      <td>27.2675</td>\n",
       "      <td>429.5</td>\n",
       "      <td>714.00</td>\n",
       "      <td>0.004783</td>\n",
       "      <td>1</td>\n",
       "    </tr>\n",
       "    <tr>\n",
       "      <th>3</th>\n",
       "      <td>23.15</td>\n",
       "      <td>27.2450</td>\n",
       "      <td>426.0</td>\n",
       "      <td>713.50</td>\n",
       "      <td>0.004779</td>\n",
       "      <td>1</td>\n",
       "    </tr>\n",
       "    <tr>\n",
       "      <th>4</th>\n",
       "      <td>23.15</td>\n",
       "      <td>27.2000</td>\n",
       "      <td>426.0</td>\n",
       "      <td>708.25</td>\n",
       "      <td>0.004772</td>\n",
       "      <td>1</td>\n",
       "    </tr>\n",
       "    <tr>\n",
       "      <th>5</th>\n",
       "      <td>23.10</td>\n",
       "      <td>27.2000</td>\n",
       "      <td>426.0</td>\n",
       "      <td>704.50</td>\n",
       "      <td>0.004757</td>\n",
       "      <td>1</td>\n",
       "    </tr>\n",
       "  </tbody>\n",
       "</table>\n",
       "</div>"
      ],
      "text/plain": [
       "   Temperature  Humidity  Light     CO2  HumidityRatio  Occupancy\n",
       "1        23.18   27.2720  426.0  721.25       0.004793          1\n",
       "2        23.15   27.2675  429.5  714.00       0.004783          1\n",
       "3        23.15   27.2450  426.0  713.50       0.004779          1\n",
       "4        23.15   27.2000  426.0  708.25       0.004772          1\n",
       "5        23.10   27.2000  426.0  704.50       0.004757          1"
      ]
     },
     "execution_count": 7,
     "metadata": {},
     "output_type": "execute_result"
    }
   ],
   "source": [
    "train.head()"
   ]
  },
  {
   "cell_type": "code",
   "execution_count": 8,
   "metadata": {
    "collapsed": false
   },
   "outputs": [],
   "source": [
    "train[\"Temp<20.61\"] = 0\n",
    "train[\"Temp<20.61\"] = pd.get_dummies(train ['Temperature'] < train ['Temperature'].mean())"
   ]
  },
  {
   "cell_type": "code",
   "execution_count": 9,
   "metadata": {
    "collapsed": false
   },
   "outputs": [
    {
     "data": {
      "text/html": [
       "<div>\n",
       "<table border=\"1\" class=\"dataframe\">\n",
       "  <thead>\n",
       "    <tr style=\"text-align: right;\">\n",
       "      <th></th>\n",
       "      <th>Temperature</th>\n",
       "      <th>Humidity</th>\n",
       "      <th>Light</th>\n",
       "      <th>CO2</th>\n",
       "      <th>HumidityRatio</th>\n",
       "      <th>Occupancy</th>\n",
       "      <th>Temp&lt;20.61</th>\n",
       "    </tr>\n",
       "  </thead>\n",
       "  <tbody>\n",
       "    <tr>\n",
       "      <th>1</th>\n",
       "      <td>23.18</td>\n",
       "      <td>27.2720</td>\n",
       "      <td>426.0</td>\n",
       "      <td>721.25</td>\n",
       "      <td>0.004793</td>\n",
       "      <td>1</td>\n",
       "      <td>1</td>\n",
       "    </tr>\n",
       "    <tr>\n",
       "      <th>2</th>\n",
       "      <td>23.15</td>\n",
       "      <td>27.2675</td>\n",
       "      <td>429.5</td>\n",
       "      <td>714.00</td>\n",
       "      <td>0.004783</td>\n",
       "      <td>1</td>\n",
       "      <td>1</td>\n",
       "    </tr>\n",
       "    <tr>\n",
       "      <th>3</th>\n",
       "      <td>23.15</td>\n",
       "      <td>27.2450</td>\n",
       "      <td>426.0</td>\n",
       "      <td>713.50</td>\n",
       "      <td>0.004779</td>\n",
       "      <td>1</td>\n",
       "      <td>1</td>\n",
       "    </tr>\n",
       "    <tr>\n",
       "      <th>4</th>\n",
       "      <td>23.15</td>\n",
       "      <td>27.2000</td>\n",
       "      <td>426.0</td>\n",
       "      <td>708.25</td>\n",
       "      <td>0.004772</td>\n",
       "      <td>1</td>\n",
       "      <td>1</td>\n",
       "    </tr>\n",
       "    <tr>\n",
       "      <th>5</th>\n",
       "      <td>23.10</td>\n",
       "      <td>27.2000</td>\n",
       "      <td>426.0</td>\n",
       "      <td>704.50</td>\n",
       "      <td>0.004757</td>\n",
       "      <td>1</td>\n",
       "      <td>1</td>\n",
       "    </tr>\n",
       "  </tbody>\n",
       "</table>\n",
       "</div>"
      ],
      "text/plain": [
       "   Temperature  Humidity  Light     CO2  HumidityRatio  Occupancy  Temp<20.61\n",
       "1        23.18   27.2720  426.0  721.25       0.004793          1           1\n",
       "2        23.15   27.2675  429.5  714.00       0.004783          1           1\n",
       "3        23.15   27.2450  426.0  713.50       0.004779          1           1\n",
       "4        23.15   27.2000  426.0  708.25       0.004772          1           1\n",
       "5        23.10   27.2000  426.0  704.50       0.004757          1           1"
      ]
     },
     "execution_count": 9,
     "metadata": {},
     "output_type": "execute_result"
    }
   ],
   "source": [
    "train.head()"
   ]
  },
  {
   "cell_type": "code",
   "execution_count": 10,
   "metadata": {
    "collapsed": true
   },
   "outputs": [],
   "source": [
    "train[\"Temp>20.61\"] = 0\n",
    "train[\"Temp>20.61\"] = pd.get_dummies(train ['Temperature'] > train ['Temperature'].mean())"
   ]
  },
  {
   "cell_type": "code",
   "execution_count": 11,
   "metadata": {
    "collapsed": false
   },
   "outputs": [
    {
     "data": {
      "text/html": [
       "<div>\n",
       "<table border=\"1\" class=\"dataframe\">\n",
       "  <thead>\n",
       "    <tr style=\"text-align: right;\">\n",
       "      <th></th>\n",
       "      <th>Temperature</th>\n",
       "      <th>Humidity</th>\n",
       "      <th>Light</th>\n",
       "      <th>CO2</th>\n",
       "      <th>HumidityRatio</th>\n",
       "      <th>Occupancy</th>\n",
       "      <th>Temp&lt;20.61</th>\n",
       "      <th>Temp&gt;20.61</th>\n",
       "    </tr>\n",
       "  </thead>\n",
       "  <tbody>\n",
       "    <tr>\n",
       "      <th>1</th>\n",
       "      <td>23.18</td>\n",
       "      <td>27.2720</td>\n",
       "      <td>426.0</td>\n",
       "      <td>721.25</td>\n",
       "      <td>0.004793</td>\n",
       "      <td>1</td>\n",
       "      <td>1</td>\n",
       "      <td>0</td>\n",
       "    </tr>\n",
       "    <tr>\n",
       "      <th>2</th>\n",
       "      <td>23.15</td>\n",
       "      <td>27.2675</td>\n",
       "      <td>429.5</td>\n",
       "      <td>714.00</td>\n",
       "      <td>0.004783</td>\n",
       "      <td>1</td>\n",
       "      <td>1</td>\n",
       "      <td>0</td>\n",
       "    </tr>\n",
       "    <tr>\n",
       "      <th>3</th>\n",
       "      <td>23.15</td>\n",
       "      <td>27.2450</td>\n",
       "      <td>426.0</td>\n",
       "      <td>713.50</td>\n",
       "      <td>0.004779</td>\n",
       "      <td>1</td>\n",
       "      <td>1</td>\n",
       "      <td>0</td>\n",
       "    </tr>\n",
       "    <tr>\n",
       "      <th>4</th>\n",
       "      <td>23.15</td>\n",
       "      <td>27.2000</td>\n",
       "      <td>426.0</td>\n",
       "      <td>708.25</td>\n",
       "      <td>0.004772</td>\n",
       "      <td>1</td>\n",
       "      <td>1</td>\n",
       "      <td>0</td>\n",
       "    </tr>\n",
       "    <tr>\n",
       "      <th>5</th>\n",
       "      <td>23.10</td>\n",
       "      <td>27.2000</td>\n",
       "      <td>426.0</td>\n",
       "      <td>704.50</td>\n",
       "      <td>0.004757</td>\n",
       "      <td>1</td>\n",
       "      <td>1</td>\n",
       "      <td>0</td>\n",
       "    </tr>\n",
       "  </tbody>\n",
       "</table>\n",
       "</div>"
      ],
      "text/plain": [
       "   Temperature  Humidity  Light     CO2  HumidityRatio  Occupancy  Temp<20.61  \\\n",
       "1        23.18   27.2720  426.0  721.25       0.004793          1           1   \n",
       "2        23.15   27.2675  429.5  714.00       0.004783          1           1   \n",
       "3        23.15   27.2450  426.0  713.50       0.004779          1           1   \n",
       "4        23.15   27.2000  426.0  708.25       0.004772          1           1   \n",
       "5        23.10   27.2000  426.0  704.50       0.004757          1           1   \n",
       "\n",
       "   Temp>20.61  \n",
       "1           0  \n",
       "2           0  \n",
       "3           0  \n",
       "4           0  \n",
       "5           0  "
      ]
     },
     "execution_count": 11,
     "metadata": {},
     "output_type": "execute_result"
    }
   ],
   "source": [
    "train.head()"
   ]
  },
  {
   "cell_type": "code",
   "execution_count": 12,
   "metadata": {
    "collapsed": false
   },
   "outputs": [
    {
     "data": {
      "text/plain": [
       "25.731507286422527"
      ]
     },
     "execution_count": 12,
     "metadata": {},
     "output_type": "execute_result"
    }
   ],
   "source": [
    "Humid_mean = train ['Humidity'].mean()\n",
    "Humid_mean"
   ]
  },
  {
   "cell_type": "code",
   "execution_count": 13,
   "metadata": {
    "collapsed": false
   },
   "outputs": [],
   "source": [
    "train[\"Humid>25.73\"] = 0\n",
    "train[\"Humid>25.73\"] = pd.get_dummies(train ['Humidity'] > train ['Humidity'].mean())\n",
    "train[\"Humid<25.73\"] = 0\n",
    "train[\"Humid<25.73\"] = pd.get_dummies(train ['Humidity'] < train ['Humidity'].mean())"
   ]
  },
  {
   "cell_type": "code",
   "execution_count": 14,
   "metadata": {
    "collapsed": false
   },
   "outputs": [
    {
     "data": {
      "text/html": [
       "<div>\n",
       "<table border=\"1\" class=\"dataframe\">\n",
       "  <thead>\n",
       "    <tr style=\"text-align: right;\">\n",
       "      <th></th>\n",
       "      <th>Temperature</th>\n",
       "      <th>Humidity</th>\n",
       "      <th>Light</th>\n",
       "      <th>CO2</th>\n",
       "      <th>HumidityRatio</th>\n",
       "      <th>Occupancy</th>\n",
       "      <th>Temp&lt;20.61</th>\n",
       "      <th>Temp&gt;20.61</th>\n",
       "      <th>Humid&gt;25.73</th>\n",
       "      <th>Humid&lt;25.73</th>\n",
       "    </tr>\n",
       "  </thead>\n",
       "  <tbody>\n",
       "    <tr>\n",
       "      <th>1</th>\n",
       "      <td>23.18</td>\n",
       "      <td>27.2720</td>\n",
       "      <td>426.0</td>\n",
       "      <td>721.25</td>\n",
       "      <td>0.004793</td>\n",
       "      <td>1</td>\n",
       "      <td>1</td>\n",
       "      <td>0</td>\n",
       "      <td>0</td>\n",
       "      <td>1</td>\n",
       "    </tr>\n",
       "    <tr>\n",
       "      <th>2</th>\n",
       "      <td>23.15</td>\n",
       "      <td>27.2675</td>\n",
       "      <td>429.5</td>\n",
       "      <td>714.00</td>\n",
       "      <td>0.004783</td>\n",
       "      <td>1</td>\n",
       "      <td>1</td>\n",
       "      <td>0</td>\n",
       "      <td>0</td>\n",
       "      <td>1</td>\n",
       "    </tr>\n",
       "    <tr>\n",
       "      <th>3</th>\n",
       "      <td>23.15</td>\n",
       "      <td>27.2450</td>\n",
       "      <td>426.0</td>\n",
       "      <td>713.50</td>\n",
       "      <td>0.004779</td>\n",
       "      <td>1</td>\n",
       "      <td>1</td>\n",
       "      <td>0</td>\n",
       "      <td>0</td>\n",
       "      <td>1</td>\n",
       "    </tr>\n",
       "    <tr>\n",
       "      <th>4</th>\n",
       "      <td>23.15</td>\n",
       "      <td>27.2000</td>\n",
       "      <td>426.0</td>\n",
       "      <td>708.25</td>\n",
       "      <td>0.004772</td>\n",
       "      <td>1</td>\n",
       "      <td>1</td>\n",
       "      <td>0</td>\n",
       "      <td>0</td>\n",
       "      <td>1</td>\n",
       "    </tr>\n",
       "    <tr>\n",
       "      <th>5</th>\n",
       "      <td>23.10</td>\n",
       "      <td>27.2000</td>\n",
       "      <td>426.0</td>\n",
       "      <td>704.50</td>\n",
       "      <td>0.004757</td>\n",
       "      <td>1</td>\n",
       "      <td>1</td>\n",
       "      <td>0</td>\n",
       "      <td>0</td>\n",
       "      <td>1</td>\n",
       "    </tr>\n",
       "  </tbody>\n",
       "</table>\n",
       "</div>"
      ],
      "text/plain": [
       "   Temperature  Humidity  Light     CO2  HumidityRatio  Occupancy  Temp<20.61  \\\n",
       "1        23.18   27.2720  426.0  721.25       0.004793          1           1   \n",
       "2        23.15   27.2675  429.5  714.00       0.004783          1           1   \n",
       "3        23.15   27.2450  426.0  713.50       0.004779          1           1   \n",
       "4        23.15   27.2000  426.0  708.25       0.004772          1           1   \n",
       "5        23.10   27.2000  426.0  704.50       0.004757          1           1   \n",
       "\n",
       "   Temp>20.61  Humid>25.73  Humid<25.73  \n",
       "1           0            0            1  \n",
       "2           0            0            1  \n",
       "3           0            0            1  \n",
       "4           0            0            1  \n",
       "5           0            0            1  "
      ]
     },
     "execution_count": 14,
     "metadata": {},
     "output_type": "execute_result"
    }
   ],
   "source": [
    "train.head()"
   ]
  },
  {
   "cell_type": "code",
   "execution_count": 15,
   "metadata": {
    "collapsed": false
   },
   "outputs": [
    {
     "data": {
      "text/plain": [
       "119.51937451389756"
      ]
     },
     "execution_count": 15,
     "metadata": {},
     "output_type": "execute_result"
    }
   ],
   "source": [
    "light_mean =train['Light'].mean()\n",
    "light_mean"
   ]
  },
  {
   "cell_type": "code",
   "execution_count": 16,
   "metadata": {
    "collapsed": true
   },
   "outputs": [],
   "source": [
    "train[\"light>119.51\"] = 0\n",
    "train[\"light>119.51\"] = pd.get_dummies(train ['Light'] > train ['Light'].mean())\n",
    "train[\"light<119.51\"] = 0\n",
    "train[\"light<119.51\"] = pd.get_dummies(train ['Light'] < train ['Light'].mean())"
   ]
  },
  {
   "cell_type": "code",
   "execution_count": 17,
   "metadata": {
    "collapsed": false
   },
   "outputs": [
    {
     "data": {
      "text/html": [
       "<div>\n",
       "<table border=\"1\" class=\"dataframe\">\n",
       "  <thead>\n",
       "    <tr style=\"text-align: right;\">\n",
       "      <th></th>\n",
       "      <th>Temperature</th>\n",
       "      <th>Humidity</th>\n",
       "      <th>Light</th>\n",
       "      <th>CO2</th>\n",
       "      <th>HumidityRatio</th>\n",
       "      <th>Occupancy</th>\n",
       "      <th>Temp&lt;20.61</th>\n",
       "      <th>Temp&gt;20.61</th>\n",
       "      <th>Humid&gt;25.73</th>\n",
       "      <th>Humid&lt;25.73</th>\n",
       "      <th>light&gt;119.51</th>\n",
       "      <th>light&lt;119.51</th>\n",
       "    </tr>\n",
       "  </thead>\n",
       "  <tbody>\n",
       "    <tr>\n",
       "      <th>1</th>\n",
       "      <td>23.18</td>\n",
       "      <td>27.2720</td>\n",
       "      <td>426.0</td>\n",
       "      <td>721.25</td>\n",
       "      <td>0.004793</td>\n",
       "      <td>1</td>\n",
       "      <td>1</td>\n",
       "      <td>0</td>\n",
       "      <td>0</td>\n",
       "      <td>1</td>\n",
       "      <td>0</td>\n",
       "      <td>1</td>\n",
       "    </tr>\n",
       "    <tr>\n",
       "      <th>2</th>\n",
       "      <td>23.15</td>\n",
       "      <td>27.2675</td>\n",
       "      <td>429.5</td>\n",
       "      <td>714.00</td>\n",
       "      <td>0.004783</td>\n",
       "      <td>1</td>\n",
       "      <td>1</td>\n",
       "      <td>0</td>\n",
       "      <td>0</td>\n",
       "      <td>1</td>\n",
       "      <td>0</td>\n",
       "      <td>1</td>\n",
       "    </tr>\n",
       "    <tr>\n",
       "      <th>3</th>\n",
       "      <td>23.15</td>\n",
       "      <td>27.2450</td>\n",
       "      <td>426.0</td>\n",
       "      <td>713.50</td>\n",
       "      <td>0.004779</td>\n",
       "      <td>1</td>\n",
       "      <td>1</td>\n",
       "      <td>0</td>\n",
       "      <td>0</td>\n",
       "      <td>1</td>\n",
       "      <td>0</td>\n",
       "      <td>1</td>\n",
       "    </tr>\n",
       "    <tr>\n",
       "      <th>4</th>\n",
       "      <td>23.15</td>\n",
       "      <td>27.2000</td>\n",
       "      <td>426.0</td>\n",
       "      <td>708.25</td>\n",
       "      <td>0.004772</td>\n",
       "      <td>1</td>\n",
       "      <td>1</td>\n",
       "      <td>0</td>\n",
       "      <td>0</td>\n",
       "      <td>1</td>\n",
       "      <td>0</td>\n",
       "      <td>1</td>\n",
       "    </tr>\n",
       "    <tr>\n",
       "      <th>5</th>\n",
       "      <td>23.10</td>\n",
       "      <td>27.2000</td>\n",
       "      <td>426.0</td>\n",
       "      <td>704.50</td>\n",
       "      <td>0.004757</td>\n",
       "      <td>1</td>\n",
       "      <td>1</td>\n",
       "      <td>0</td>\n",
       "      <td>0</td>\n",
       "      <td>1</td>\n",
       "      <td>0</td>\n",
       "      <td>1</td>\n",
       "    </tr>\n",
       "  </tbody>\n",
       "</table>\n",
       "</div>"
      ],
      "text/plain": [
       "   Temperature  Humidity  Light     CO2  HumidityRatio  Occupancy  Temp<20.61  \\\n",
       "1        23.18   27.2720  426.0  721.25       0.004793          1           1   \n",
       "2        23.15   27.2675  429.5  714.00       0.004783          1           1   \n",
       "3        23.15   27.2450  426.0  713.50       0.004779          1           1   \n",
       "4        23.15   27.2000  426.0  708.25       0.004772          1           1   \n",
       "5        23.10   27.2000  426.0  704.50       0.004757          1           1   \n",
       "\n",
       "   Temp>20.61  Humid>25.73  Humid<25.73  light>119.51  light<119.51  \n",
       "1           0            0            1             0             1  \n",
       "2           0            0            1             0             1  \n",
       "3           0            0            1             0             1  \n",
       "4           0            0            1             0             1  \n",
       "5           0            0            1             0             1  "
      ]
     },
     "execution_count": 17,
     "metadata": {},
     "output_type": "execute_result"
    }
   ],
   "source": [
    "train.head()"
   ]
  },
  {
   "cell_type": "code",
   "execution_count": 18,
   "metadata": {
    "collapsed": false
   },
   "outputs": [
    {
     "data": {
      "text/plain": [
       "606.5462431945632"
      ]
     },
     "execution_count": 18,
     "metadata": {},
     "output_type": "execute_result"
    }
   ],
   "source": [
    "CO2_mean = train['CO2'].mean()\n",
    "CO2_mean"
   ]
  },
  {
   "cell_type": "code",
   "execution_count": 19,
   "metadata": {
    "collapsed": true
   },
   "outputs": [],
   "source": [
    "train[\"CO2>606.54\"] = 0\n",
    "train[\"CO2>606.54\"] = pd.get_dummies(train ['CO2'] > train ['CO2'].mean())\n",
    "train[\"CO2<606.54\"] = 0\n",
    "train[\"CO2<606.54\"] = pd.get_dummies(train ['CO2'] < train ['CO2'].mean())"
   ]
  },
  {
   "cell_type": "code",
   "execution_count": 20,
   "metadata": {
    "collapsed": false
   },
   "outputs": [
    {
     "data": {
      "text/plain": [
       "0.0038625066783203902"
      ]
     },
     "execution_count": 20,
     "metadata": {},
     "output_type": "execute_result"
    }
   ],
   "source": [
    "HumidityRatio_mean =train['HumidityRatio'].mean()\n",
    "HumidityRatio_mean"
   ]
  },
  {
   "cell_type": "code",
   "execution_count": 21,
   "metadata": {
    "collapsed": true
   },
   "outputs": [],
   "source": [
    "train[\"HumidityRatio>0.003\"] = 0\n",
    "train[\"HumidityRatio>0.003\"] = pd.get_dummies(train ['HumidityRatio'] > train ['HumidityRatio'].mean())\n",
    "train[\"HumidityRatio<0.003\"] = 0\n",
    "train[\"HumidityRatio<0.003\"] = pd.get_dummies(train ['HumidityRatio'] < train ['HumidityRatio'].mean())"
   ]
  },
  {
   "cell_type": "code",
   "execution_count": 22,
   "metadata": {
    "collapsed": false
   },
   "outputs": [
    {
     "data": {
      "text/html": [
       "<div>\n",
       "<table border=\"1\" class=\"dataframe\">\n",
       "  <thead>\n",
       "    <tr style=\"text-align: right;\">\n",
       "      <th></th>\n",
       "      <th>Temperature</th>\n",
       "      <th>Humidity</th>\n",
       "      <th>Light</th>\n",
       "      <th>CO2</th>\n",
       "      <th>HumidityRatio</th>\n",
       "      <th>Occupancy</th>\n",
       "      <th>Temp&lt;20.61</th>\n",
       "      <th>Temp&gt;20.61</th>\n",
       "      <th>Humid&gt;25.73</th>\n",
       "      <th>Humid&lt;25.73</th>\n",
       "      <th>light&gt;119.51</th>\n",
       "      <th>light&lt;119.51</th>\n",
       "      <th>CO2&gt;606.54</th>\n",
       "      <th>CO2&lt;606.54</th>\n",
       "      <th>HumidityRatio&gt;0.003</th>\n",
       "      <th>HumidityRatio&lt;0.003</th>\n",
       "    </tr>\n",
       "  </thead>\n",
       "  <tbody>\n",
       "    <tr>\n",
       "      <th>1</th>\n",
       "      <td>23.18</td>\n",
       "      <td>27.2720</td>\n",
       "      <td>426.0</td>\n",
       "      <td>721.25</td>\n",
       "      <td>0.004793</td>\n",
       "      <td>1</td>\n",
       "      <td>1</td>\n",
       "      <td>0</td>\n",
       "      <td>0</td>\n",
       "      <td>1</td>\n",
       "      <td>0</td>\n",
       "      <td>1</td>\n",
       "      <td>0</td>\n",
       "      <td>1</td>\n",
       "      <td>0</td>\n",
       "      <td>1</td>\n",
       "    </tr>\n",
       "    <tr>\n",
       "      <th>2</th>\n",
       "      <td>23.15</td>\n",
       "      <td>27.2675</td>\n",
       "      <td>429.5</td>\n",
       "      <td>714.00</td>\n",
       "      <td>0.004783</td>\n",
       "      <td>1</td>\n",
       "      <td>1</td>\n",
       "      <td>0</td>\n",
       "      <td>0</td>\n",
       "      <td>1</td>\n",
       "      <td>0</td>\n",
       "      <td>1</td>\n",
       "      <td>0</td>\n",
       "      <td>1</td>\n",
       "      <td>0</td>\n",
       "      <td>1</td>\n",
       "    </tr>\n",
       "    <tr>\n",
       "      <th>3</th>\n",
       "      <td>23.15</td>\n",
       "      <td>27.2450</td>\n",
       "      <td>426.0</td>\n",
       "      <td>713.50</td>\n",
       "      <td>0.004779</td>\n",
       "      <td>1</td>\n",
       "      <td>1</td>\n",
       "      <td>0</td>\n",
       "      <td>0</td>\n",
       "      <td>1</td>\n",
       "      <td>0</td>\n",
       "      <td>1</td>\n",
       "      <td>0</td>\n",
       "      <td>1</td>\n",
       "      <td>0</td>\n",
       "      <td>1</td>\n",
       "    </tr>\n",
       "    <tr>\n",
       "      <th>4</th>\n",
       "      <td>23.15</td>\n",
       "      <td>27.2000</td>\n",
       "      <td>426.0</td>\n",
       "      <td>708.25</td>\n",
       "      <td>0.004772</td>\n",
       "      <td>1</td>\n",
       "      <td>1</td>\n",
       "      <td>0</td>\n",
       "      <td>0</td>\n",
       "      <td>1</td>\n",
       "      <td>0</td>\n",
       "      <td>1</td>\n",
       "      <td>0</td>\n",
       "      <td>1</td>\n",
       "      <td>0</td>\n",
       "      <td>1</td>\n",
       "    </tr>\n",
       "    <tr>\n",
       "      <th>5</th>\n",
       "      <td>23.10</td>\n",
       "      <td>27.2000</td>\n",
       "      <td>426.0</td>\n",
       "      <td>704.50</td>\n",
       "      <td>0.004757</td>\n",
       "      <td>1</td>\n",
       "      <td>1</td>\n",
       "      <td>0</td>\n",
       "      <td>0</td>\n",
       "      <td>1</td>\n",
       "      <td>0</td>\n",
       "      <td>1</td>\n",
       "      <td>0</td>\n",
       "      <td>1</td>\n",
       "      <td>0</td>\n",
       "      <td>1</td>\n",
       "    </tr>\n",
       "  </tbody>\n",
       "</table>\n",
       "</div>"
      ],
      "text/plain": [
       "   Temperature  Humidity  Light     CO2  HumidityRatio  Occupancy  Temp<20.61  \\\n",
       "1        23.18   27.2720  426.0  721.25       0.004793          1           1   \n",
       "2        23.15   27.2675  429.5  714.00       0.004783          1           1   \n",
       "3        23.15   27.2450  426.0  713.50       0.004779          1           1   \n",
       "4        23.15   27.2000  426.0  708.25       0.004772          1           1   \n",
       "5        23.10   27.2000  426.0  704.50       0.004757          1           1   \n",
       "\n",
       "   Temp>20.61  Humid>25.73  Humid<25.73  light>119.51  light<119.51  \\\n",
       "1           0            0            1             0             1   \n",
       "2           0            0            1             0             1   \n",
       "3           0            0            1             0             1   \n",
       "4           0            0            1             0             1   \n",
       "5           0            0            1             0             1   \n",
       "\n",
       "   CO2>606.54  CO2<606.54  HumidityRatio>0.003  HumidityRatio<0.003  \n",
       "1           0           1                    0                    1  \n",
       "2           0           1                    0                    1  \n",
       "3           0           1                    0                    1  \n",
       "4           0           1                    0                    1  \n",
       "5           0           1                    0                    1  "
      ]
     },
     "execution_count": 22,
     "metadata": {},
     "output_type": "execute_result"
    }
   ],
   "source": [
    "train.head()"
   ]
  },
  {
   "cell_type": "code",
   "execution_count": 23,
   "metadata": {
    "collapsed": true
   },
   "outputs": [],
   "source": [
    "del train['Temperature']\n",
    "del train['Humidity']\n",
    "del train['Light']\n",
    "del train['CO2']\n",
    "del train['HumidityRatio']"
   ]
  },
  {
   "cell_type": "code",
   "execution_count": 24,
   "metadata": {
    "collapsed": false
   },
   "outputs": [
    {
     "data": {
      "text/html": [
       "<div>\n",
       "<table border=\"1\" class=\"dataframe\">\n",
       "  <thead>\n",
       "    <tr style=\"text-align: right;\">\n",
       "      <th></th>\n",
       "      <th>Occupancy</th>\n",
       "      <th>Temp&lt;20.61</th>\n",
       "      <th>Temp&gt;20.61</th>\n",
       "      <th>Humid&gt;25.73</th>\n",
       "      <th>Humid&lt;25.73</th>\n",
       "      <th>light&gt;119.51</th>\n",
       "      <th>light&lt;119.51</th>\n",
       "      <th>CO2&gt;606.54</th>\n",
       "      <th>CO2&lt;606.54</th>\n",
       "      <th>HumidityRatio&gt;0.003</th>\n",
       "      <th>HumidityRatio&lt;0.003</th>\n",
       "    </tr>\n",
       "  </thead>\n",
       "  <tbody>\n",
       "    <tr>\n",
       "      <th>1</th>\n",
       "      <td>1</td>\n",
       "      <td>1</td>\n",
       "      <td>0</td>\n",
       "      <td>0</td>\n",
       "      <td>1</td>\n",
       "      <td>0</td>\n",
       "      <td>1</td>\n",
       "      <td>0</td>\n",
       "      <td>1</td>\n",
       "      <td>0</td>\n",
       "      <td>1</td>\n",
       "    </tr>\n",
       "    <tr>\n",
       "      <th>2</th>\n",
       "      <td>1</td>\n",
       "      <td>1</td>\n",
       "      <td>0</td>\n",
       "      <td>0</td>\n",
       "      <td>1</td>\n",
       "      <td>0</td>\n",
       "      <td>1</td>\n",
       "      <td>0</td>\n",
       "      <td>1</td>\n",
       "      <td>0</td>\n",
       "      <td>1</td>\n",
       "    </tr>\n",
       "    <tr>\n",
       "      <th>3</th>\n",
       "      <td>1</td>\n",
       "      <td>1</td>\n",
       "      <td>0</td>\n",
       "      <td>0</td>\n",
       "      <td>1</td>\n",
       "      <td>0</td>\n",
       "      <td>1</td>\n",
       "      <td>0</td>\n",
       "      <td>1</td>\n",
       "      <td>0</td>\n",
       "      <td>1</td>\n",
       "    </tr>\n",
       "    <tr>\n",
       "      <th>4</th>\n",
       "      <td>1</td>\n",
       "      <td>1</td>\n",
       "      <td>0</td>\n",
       "      <td>0</td>\n",
       "      <td>1</td>\n",
       "      <td>0</td>\n",
       "      <td>1</td>\n",
       "      <td>0</td>\n",
       "      <td>1</td>\n",
       "      <td>0</td>\n",
       "      <td>1</td>\n",
       "    </tr>\n",
       "    <tr>\n",
       "      <th>5</th>\n",
       "      <td>1</td>\n",
       "      <td>1</td>\n",
       "      <td>0</td>\n",
       "      <td>0</td>\n",
       "      <td>1</td>\n",
       "      <td>0</td>\n",
       "      <td>1</td>\n",
       "      <td>0</td>\n",
       "      <td>1</td>\n",
       "      <td>0</td>\n",
       "      <td>1</td>\n",
       "    </tr>\n",
       "  </tbody>\n",
       "</table>\n",
       "</div>"
      ],
      "text/plain": [
       "   Occupancy  Temp<20.61  Temp>20.61  Humid>25.73  Humid<25.73  light>119.51  \\\n",
       "1          1           1           0            0            1             0   \n",
       "2          1           1           0            0            1             0   \n",
       "3          1           1           0            0            1             0   \n",
       "4          1           1           0            0            1             0   \n",
       "5          1           1           0            0            1             0   \n",
       "\n",
       "   light<119.51  CO2>606.54  CO2<606.54  HumidityRatio>0.003  \\\n",
       "1             1           0           1                    0   \n",
       "2             1           0           1                    0   \n",
       "3             1           0           1                    0   \n",
       "4             1           0           1                    0   \n",
       "5             1           0           1                    0   \n",
       "\n",
       "   HumidityRatio<0.003  \n",
       "1                    1  \n",
       "2                    1  \n",
       "3                    1  \n",
       "4                    1  \n",
       "5                    1  "
      ]
     },
     "execution_count": 24,
     "metadata": {},
     "output_type": "execute_result"
    }
   ],
   "source": [
    "train.head()"
   ]
  },
  {
   "cell_type": "code",
   "execution_count": 25,
   "metadata": {
    "collapsed": true
   },
   "outputs": [],
   "source": [
    "from sklearn.naive_bayes import BernoulliNB\n",
    "from sklearn.model_selection import train_test_split"
   ]
  },
  {
   "cell_type": "code",
   "execution_count": 26,
   "metadata": {
    "collapsed": false
   },
   "outputs": [],
   "source": [
    "x_train,x_test,y_train,y_test = train_test_split(train.drop(['Occupancy'],axis=1),train['Occupancy'],train_size=0.67)\n",
    "clf = BernoulliNB()"
   ]
  },
  {
   "cell_type": "code",
   "execution_count": 27,
   "metadata": {
    "collapsed": false
   },
   "outputs": [],
   "source": [
    "x_test.reset_index(drop=True,inplace=True)"
   ]
  },
  {
   "cell_type": "code",
   "execution_count": 28,
   "metadata": {
    "collapsed": false
   },
   "outputs": [
    {
     "data": {
      "text/plain": [
       "BernoulliNB(alpha=1.0, binarize=0.0, class_prior=None, fit_prior=True)"
      ]
     },
     "execution_count": 28,
     "metadata": {},
     "output_type": "execute_result"
    }
   ],
   "source": [
    "clf.fit(x_train,y_train)"
   ]
  },
  {
   "cell_type": "code",
   "execution_count": 29,
   "metadata": {
    "collapsed": true
   },
   "outputs": [],
   "source": [
    "predictions = clf.predict_proba(x_test)"
   ]
  },
  {
   "cell_type": "code",
   "execution_count": 30,
   "metadata": {
    "collapsed": false
   },
   "outputs": [
    {
     "name": "stdout",
     "output_type": "stream",
     "text": [
      "[[  1.00000000e+00   3.10332187e-11]\n",
      " [  9.99898568e-01   1.01432216e-04]\n",
      " [  1.00000000e+00   6.20012952e-12]\n",
      " ..., \n",
      " [  1.00000000e+00   3.10332187e-11]\n",
      " [  1.00000000e+00   4.71783530e-12]\n",
      " [  1.00000000e+00   3.10332187e-11]]\n"
     ]
    }
   ],
   "source": [
    "print (predictions)"
   ]
  },
  {
   "cell_type": "code",
   "execution_count": 31,
   "metadata": {
    "collapsed": true
   },
   "outputs": [],
   "source": [
    "feat1_prob = clf.feature_log_prob_\n",
    "neg_prob = np.log(1-np.exp(clf.feature_log_prob_))\n",
    "class_prob = clf.class_log_prior_"
   ]
  },
  {
   "cell_type": "code",
   "execution_count": 32,
   "metadata": {
    "collapsed": true
   },
   "outputs": [],
   "source": [
    "feat1 = clf.feature_log_prob_[0] - clf.feature_log_prob_[1]\n",
    "feat0 = neg_prob[0] - neg_prob[1]"
   ]
  },
  {
   "cell_type": "code",
   "execution_count": 33,
   "metadata": {
    "collapsed": false
   },
   "outputs": [],
   "source": [
    "pos_evi = []\n",
    "neg_evi = []\n",
    "for i in x_test.itertuples():\n",
    "    positive = 0\n",
    "    negative = 0\n",
    "    for j in range(1,len(i)):\n",
    "        if(i[j]==0):\n",
    "            if(feat0[j-1]>0):\n",
    "                positive += feat0[j-1]\n",
    "            else:\n",
    "                negative += feat0[j-1]\n",
    "        else:\n",
    "            if(feat1[j-1]>0):\n",
    "                positive += feat1[j-1]\n",
    "            else:\n",
    "                negative+= feat1[j-1]\n",
    "    positive += class_prob[0] - class_prob[1]\n",
    "    pos_evi.append((i[0],positive))\n",
    "    neg_evi.append((i[0],negative))"
   ]
  },
  {
   "cell_type": "markdown",
   "metadata": {},
   "source": [
    "### The most positive object with respect to the probabilities."
   ]
  },
  {
   "cell_type": "code",
   "execution_count": 34,
   "metadata": {
    "collapsed": false
   },
   "outputs": [
    {
     "name": "stdout",
     "output_type": "stream",
     "text": [
      "The most positive object with respect to the probabilities.\n",
      "Temp<20.61             0\n",
      "Temp>20.61             1\n",
      "Humid>25.73            1\n",
      "Humid<25.73            0\n",
      "light>119.51           1\n",
      "light<119.51           0\n",
      "CO2>606.54             1\n",
      "CO2<606.54             0\n",
      "HumidityRatio>0.003    1\n",
      "HumidityRatio<0.003    0\n",
      "Name: 4, dtype: uint8\n"
     ]
    }
   ],
   "source": [
    "positive_obj_with_probability = x_test.ix[np.argmax(predictions[:,0])]\n",
    "print (\"The most positive object with respect to the probabilities.\")\n",
    "print (positive_obj_with_probability)"
   ]
  },
  {
   "cell_type": "code",
   "execution_count": 35,
   "metadata": {
    "collapsed": false
   },
   "outputs": [
    {
     "name": "stdout",
     "output_type": "stream",
     "text": [
      "the total positive log-evidence = 26.079671\n",
      "the total negative log-evidence = 0.000000\n",
      "Probability Distribution:\n",
      "True class = 1.000000\n",
      "False class = 0.000000\n"
     ]
    }
   ],
   "source": [
    "print (\"the total positive log-evidence = %f\"%pos_evi[np.argmax(predictions[:,0])][1])\n",
    "print (\"the total negative log-evidence = %f\"%neg_evi[np.argmax(predictions[:,0])][1])\n",
    "print (\"Probability Distribution:\")\n",
    "print (\"True class = %f\"%predictions[:,0][np.argmax(predictions[:,0])])\n",
    "print (\"False class = %f\"%predictions[:,1][np.argmax(predictions[:,0])])"
   ]
  },
  {
   "cell_type": "code",
   "execution_count": 36,
   "metadata": {
    "collapsed": false
   },
   "outputs": [],
   "source": [
    "obj = x_test.ix[np.argmax(predictions[:,0])]\n",
    "positive_features = []\n",
    "negative_features = []\n",
    "for i in range(0,len(obj)):\n",
    "    if(obj[i]==0):\n",
    "        if(feat0[i]>0):\n",
    "            positive_features.append((x_test.columns[i],feat0[i]))\n",
    "        else:\n",
    "            negative_features.append((x_test.columns[i],feat0[i]))\n",
    "    else:\n",
    "        if(feat1[i]>0):\n",
    "            positive_features.append((x_test.columns[i],feat1[i]))\n",
    "        else:\n",
    "            negative_features.append((x_test.columns[i],feat1[i]))"
   ]
  },
  {
   "cell_type": "code",
   "execution_count": 37,
   "metadata": {
    "collapsed": false
   },
   "outputs": [
    {
     "name": "stdout",
     "output_type": "stream",
     "text": [
      "Top 3 positive features:\n",
      "[('light>119.51', 6.9828627514689421), ('light<119.51', 6.9828627514687307), ('CO2>606.54', 2.4593255903686595)]\n"
     ]
    }
   ],
   "source": [
    "print(\"Top 3 positive features:\")\n",
    "print (sorted(positive_features,key=lambda x:x[1],reverse=True)[:3])"
   ]
  },
  {
   "cell_type": "code",
   "execution_count": 38,
   "metadata": {
    "collapsed": false
   },
   "outputs": [
    {
     "name": "stdout",
     "output_type": "stream",
     "text": [
      "Top 3 Negative features:\n",
      "[]\n"
     ]
    }
   ],
   "source": [
    "print(\"Top 3 Negative features:\")\n",
    "print (sorted(negative_features,key=lambda x:x[1],reverse=True)[:3])"
   ]
  },
  {
   "cell_type": "markdown",
   "metadata": {},
   "source": [
    "### The most negative object with respect to the probabilities."
   ]
  },
  {
   "cell_type": "code",
   "execution_count": 39,
   "metadata": {
    "collapsed": false
   },
   "outputs": [
    {
     "name": "stdout",
     "output_type": "stream",
     "text": [
      "The most negative object with respect to the probabilities.\n",
      "Temp<20.61             1\n",
      "Temp>20.61             0\n",
      "Humid>25.73            0\n",
      "Humid<25.73            1\n",
      "light>119.51           0\n",
      "light<119.51           1\n",
      "CO2>606.54             0\n",
      "CO2<606.54             1\n",
      "HumidityRatio>0.003    0\n",
      "HumidityRatio<0.003    1\n",
      "Name: 8, dtype: uint8\n"
     ]
    }
   ],
   "source": [
    "negative_obj_with_probability = x_test.ix[np.argmax(predictions[:,1])]\n",
    "print (\"The most negative object with respect to the probabilities.\")\n",
    "print (negative_obj_with_probability)"
   ]
  },
  {
   "cell_type": "code",
   "execution_count": 40,
   "metadata": {
    "collapsed": false,
    "scrolled": true
   },
   "outputs": [
    {
     "name": "stdout",
     "output_type": "stream",
     "text": [
      "the total positive log-evidence = 1.304657\n",
      "the total negative log-evidence = -13.124352\n",
      "Probability Distribution:\n",
      "True class = 0.000007\n",
      "False class = 0.999993\n"
     ]
    }
   ],
   "source": [
    "print (\"the total positive log-evidence = %f\"%pos_evi[np.argmax(predictions[:,1])][1])\n",
    "print (\"the total negative log-evidence = %f\"%neg_evi[np.argmax(predictions[:,1])][1])\n",
    "print (\"Probability Distribution:\")\n",
    "print (\"True class = %f\"%predictions[:,0][np.argmax(predictions[:,1])])\n",
    "print (\"False class = %f\"%predictions[:,1][np.argmax(predictions[:,1])])"
   ]
  },
  {
   "cell_type": "code",
   "execution_count": 41,
   "metadata": {
    "collapsed": true
   },
   "outputs": [],
   "source": [
    "obj = x_test.ix[np.argmax(predictions[:,1])]\n",
    "positive_features = []\n",
    "negative_features = []\n",
    "for i in range(0,len(obj)):\n",
    "    if(obj[i]==0):\n",
    "        if(feat0[i]>0):\n",
    "            positive_features.append((x_test.columns[i],feat0[i]))\n",
    "        else:\n",
    "            negative_features.append((x_test.columns[i],feat0[i]))\n",
    "    else:\n",
    "        if(feat1[i]>0):\n",
    "            positive_features.append((x_test.columns[i],feat1[i]))\n",
    "        else:\n",
    "            negative_features.append((x_test.columns[i],feat1[i]))"
   ]
  },
  {
   "cell_type": "code",
   "execution_count": 42,
   "metadata": {
    "collapsed": false
   },
   "outputs": [
    {
     "name": "stdout",
     "output_type": "stream",
     "text": [
      "Top 3 positive features:\n",
      "[]\n"
     ]
    }
   ],
   "source": [
    "print(\"Top 3 positive features:\")\n",
    "print (sorted(positive_features,key=lambda x:x[1],reverse=True)[:3])"
   ]
  },
  {
   "cell_type": "code",
   "execution_count": 43,
   "metadata": {
    "collapsed": false
   },
   "outputs": [
    {
     "name": "stdout",
     "output_type": "stream",
     "text": [
      "Top 3 Negative features:\n",
      "[('Humid<25.73', -0.060761136955365558), ('Humid>25.73', -0.060761136955366002), ('HumidityRatio>0.003', -0.38962958618028337)]\n"
     ]
    }
   ],
   "source": [
    "print(\"Top 3 Negative features:\")\n",
    "print (sorted(negative_features,key=lambda x:x[1],reverse=True)[:3])"
   ]
  },
  {
   "cell_type": "markdown",
   "metadata": {},
   "source": [
    "### The object that has the largest positive evidence."
   ]
  },
  {
   "cell_type": "code",
   "execution_count": 44,
   "metadata": {
    "collapsed": false
   },
   "outputs": [
    {
     "name": "stdout",
     "output_type": "stream",
     "text": [
      "The object that has the largest positive evidence.\n",
      "Temp<20.61             0\n",
      "Temp>20.61             1\n",
      "Humid>25.73            1\n",
      "Humid<25.73            0\n",
      "light>119.51           1\n",
      "light<119.51           0\n",
      "CO2>606.54             1\n",
      "CO2<606.54             0\n",
      "HumidityRatio>0.003    1\n",
      "HumidityRatio<0.003    0\n",
      "Name: 4, dtype: uint8\n"
     ]
    }
   ],
   "source": [
    "print (\"The object that has the largest positive evidence.\")\n",
    "print (x_test.ix[sorted(pos_evi,key=lambda x:x[1],reverse=True)[0][0]])"
   ]
  },
  {
   "cell_type": "code",
   "execution_count": 45,
   "metadata": {
    "collapsed": false
   },
   "outputs": [
    {
     "name": "stdout",
     "output_type": "stream",
     "text": [
      "the total positive log-evidence = 26.079671\n",
      "the total negative log-evidence = 0.000000\n",
      "Probability Distribution:\n",
      "True class = 1.000000\n",
      "False class = 0.000000\n"
     ]
    }
   ],
   "source": [
    "print (\"the total positive log-evidence = %f\"%pos_evi[sorted(pos_evi,key=lambda x:x[1],reverse=True)[0][0]][1])\n",
    "print (\"the total negative log-evidence = %f\"%neg_evi[sorted(pos_evi,key=lambda x:x[1],reverse=True)[0][0]][1])\n",
    "print (\"Probability Distribution:\")\n",
    "print (\"True class = %f\"%predictions[:,0][sorted(pos_evi,key=lambda x:x[1],reverse=True)[0][0]])\n",
    "print (\"False class = %f\"%predictions[:,1][sorted(pos_evi,key=lambda x:x[1],reverse=True)[0][0]])"
   ]
  },
  {
   "cell_type": "code",
   "execution_count": 46,
   "metadata": {
    "collapsed": false
   },
   "outputs": [],
   "source": [
    "obj = x_test.ix[sorted(pos_evi,key=lambda x:x[1],reverse=True)[0][0]]\n",
    "positive_features = []\n",
    "negative_features = []\n",
    "for i in range(0,len(obj)):\n",
    "    if(obj[i]==0):\n",
    "        if(feat0[i]>0):\n",
    "            positive_features.append((x_test.columns[i],feat0[i]))\n",
    "        else:\n",
    "            negative_features.append((x_test.columns[i],feat0[i]))\n",
    "    else:\n",
    "        if(feat1[i]>0):\n",
    "            positive_features.append((x_test.columns[i],feat1[i]))\n",
    "        else:\n",
    "            negative_features.append((x_test.columns[i],feat1[i]))"
   ]
  },
  {
   "cell_type": "code",
   "execution_count": 47,
   "metadata": {
    "collapsed": false
   },
   "outputs": [
    {
     "name": "stdout",
     "output_type": "stream",
     "text": [
      "Top 3 positive features:\n",
      "[('light>119.51', 6.9828627514689421), ('light<119.51', 6.9828627514687307), ('CO2>606.54', 2.4593255903686595)]\n"
     ]
    }
   ],
   "source": [
    "print(\"Top 3 positive features:\")\n",
    "print (sorted(positive_features,key=lambda x:x[1],reverse=True)[:3])"
   ]
  },
  {
   "cell_type": "code",
   "execution_count": 48,
   "metadata": {
    "collapsed": false
   },
   "outputs": [
    {
     "name": "stdout",
     "output_type": "stream",
     "text": [
      "Top 3 Negative features:\n",
      "[]\n"
     ]
    }
   ],
   "source": [
    "print(\"Top 3 Negative features:\")\n",
    "print (sorted(negative_features,key=lambda x:x[1],reverse=True)[:3])"
   ]
  },
  {
   "cell_type": "markdown",
   "metadata": {},
   "source": [
    "### The object that has the largest negative evidence."
   ]
  },
  {
   "cell_type": "code",
   "execution_count": 49,
   "metadata": {
    "collapsed": false
   },
   "outputs": [
    {
     "name": "stdout",
     "output_type": "stream",
     "text": [
      "The object that has the largest negative evidence.\n",
      "Temp<20.61             0\n",
      "Temp>20.61             1\n",
      "Humid>25.73            1\n",
      "Humid<25.73            0\n",
      "light>119.51           1\n",
      "light<119.51           0\n",
      "CO2>606.54             1\n",
      "CO2<606.54             0\n",
      "HumidityRatio>0.003    1\n",
      "HumidityRatio<0.003    0\n",
      "Name: 4, dtype: uint8\n"
     ]
    }
   ],
   "source": [
    "print (\"The object that has the largest negative evidence.\")\n",
    "print (x_test.ix[sorted(neg_evi,key=lambda x:x[1],reverse=True)[0][0]])"
   ]
  },
  {
   "cell_type": "code",
   "execution_count": 50,
   "metadata": {
    "collapsed": false
   },
   "outputs": [
    {
     "name": "stdout",
     "output_type": "stream",
     "text": [
      "the total positive log-evidence = 26.079671\n",
      "the total negative log-evidence = 0.000000\n",
      "Probability Distribution:\n",
      "True class = 1.000000\n",
      "False class = 0.000000\n"
     ]
    }
   ],
   "source": [
    "print (\"the total positive log-evidence = %f\"%pos_evi[sorted(neg_evi,key=lambda x:x[1],reverse=True)[0][0]][1])\n",
    "print (\"the total negative log-evidence = %f\"%neg_evi[sorted(neg_evi,key=lambda x:x[1],reverse=True)[0][0]][1])\n",
    "print (\"Probability Distribution:\")\n",
    "print (\"True class = %f\"%predictions[:,0][sorted(neg_evi,key=lambda x:x[1],reverse=True)[0][0]])\n",
    "print (\"False class = %f\"%predictions[:,1][sorted(neg_evi,key=lambda x:x[1],reverse=True)[0][0]])"
   ]
  },
  {
   "cell_type": "code",
   "execution_count": 51,
   "metadata": {
    "collapsed": true
   },
   "outputs": [],
   "source": [
    "obj = x_test.ix[sorted(neg_evi,key=lambda x:x[1],reverse=True)[0][0]]\n",
    "positive_features = []\n",
    "negative_features = []\n",
    "for i in range(0,len(obj)):\n",
    "    if(obj[i]==0):\n",
    "        if(feat0[i]>0):\n",
    "            positive_features.append((x_test.columns[i],feat0[i]))\n",
    "        else:\n",
    "            negative_features.append((x_test.columns[i],feat0[i]))\n",
    "    else:\n",
    "        if(feat1[i]>0):\n",
    "            positive_features.append((x_test.columns[i],feat1[i]))\n",
    "        else:\n",
    "            negative_features.append((x_test.columns[i],feat1[i]))"
   ]
  },
  {
   "cell_type": "code",
   "execution_count": 52,
   "metadata": {
    "collapsed": false
   },
   "outputs": [
    {
     "name": "stdout",
     "output_type": "stream",
     "text": [
      "Top 3 positive features:\n",
      "[('light>119.51', 6.9828627514689421), ('light<119.51', 6.9828627514687307), ('CO2>606.54', 2.4593255903686595)]\n"
     ]
    }
   ],
   "source": [
    "print(\"Top 3 positive features:\")\n",
    "print (sorted(positive_features,key=lambda x:x[1],reverse=True)[:3])"
   ]
  },
  {
   "cell_type": "code",
   "execution_count": 53,
   "metadata": {
    "collapsed": false
   },
   "outputs": [
    {
     "name": "stdout",
     "output_type": "stream",
     "text": [
      "Top 3 Negative features:\n",
      "[]\n"
     ]
    }
   ],
   "source": [
    "print(\"Top 3 Negative features:\")\n",
    "print (sorted(negative_features,key=lambda x:x[1],reverse=True)[:3])"
   ]
  },
  {
   "cell_type": "markdown",
   "metadata": {},
   "source": [
    "### the most uncertain object (the probabilities are closest to 0.5)"
   ]
  },
  {
   "cell_type": "code",
   "execution_count": 54,
   "metadata": {
    "collapsed": false
   },
   "outputs": [
    {
     "name": "stdout",
     "output_type": "stream",
     "text": [
      "the most uncertain object (the probabilities are closest to 0.5)\n",
      "Temp<20.61             1\n",
      "Temp>20.61             0\n",
      "Humid>25.73            1\n",
      "Humid<25.73            0\n",
      "light>119.51           0\n",
      "light<119.51           1\n",
      "CO2>606.54             1\n",
      "CO2<606.54             0\n",
      "HumidityRatio>0.003    1\n",
      "HumidityRatio<0.003    0\n",
      "Name: 34, dtype: uint8\n"
     ]
    }
   ],
   "source": [
    "print (\"the most uncertain object (the probabilities are closest to 0.5)\")\n",
    "idx = (np.abs(predictions[:,0]-0.5)).argmin()\n",
    "print (x_test.ix[idx])"
   ]
  },
  {
   "cell_type": "code",
   "execution_count": 55,
   "metadata": {
    "collapsed": false
   },
   "outputs": [
    {
     "name": "stdout",
     "output_type": "stream",
     "text": [
      "the total positive log-evidence = 7.206235\n",
      "the total negative log-evidence = -7.505117\n",
      "Probability Distribution:\n",
      "True class = 0.425831\n",
      "False class = 0.574169\n"
     ]
    }
   ],
   "source": [
    "print (\"the total positive log-evidence = %f\"%pos_evi[idx][1])\n",
    "print (\"the total negative log-evidence = %f\"%neg_evi[idx][1])\n",
    "print (\"Probability Distribution:\")\n",
    "print (\"True class = %f\"%predictions[:,0][idx])\n",
    "print (\"False class = %f\"%predictions[:,1][idx])"
   ]
  },
  {
   "cell_type": "code",
   "execution_count": 56,
   "metadata": {
    "collapsed": true
   },
   "outputs": [],
   "source": [
    "obj = x_test.ix[idx]\n",
    "positive_features = []\n",
    "negative_features = []\n",
    "for i in range(0,len(obj)):\n",
    "    if(obj[i]==0):\n",
    "        if(feat0[i]>0):\n",
    "            positive_features.append((x_test.columns[i],feat0[i]))\n",
    "        else:\n",
    "            negative_features.append((x_test.columns[i],feat0[i]))\n",
    "    else:\n",
    "        if(feat1[i]>0):\n",
    "            positive_features.append((x_test.columns[i],feat1[i]))\n",
    "        else:\n",
    "            negative_features.append((x_test.columns[i],feat1[i]))"
   ]
  },
  {
   "cell_type": "code",
   "execution_count": 57,
   "metadata": {
    "collapsed": false
   },
   "outputs": [
    {
     "name": "stdout",
     "output_type": "stream",
     "text": [
      "Top 3 positive features:\n",
      "[('CO2>606.54', 2.4593255903686595), ('CO2<606.54', 2.4593255903686573), ('HumidityRatio<0.003', 0.41561442446258812)]\n"
     ]
    }
   ],
   "source": [
    "print(\"Top 3 positive features:\")\n",
    "print (sorted(positive_features,key=lambda x:x[1],reverse=True)[:3])"
   ]
  },
  {
   "cell_type": "code",
   "execution_count": 58,
   "metadata": {
    "collapsed": false
   },
   "outputs": [
    {
     "name": "stdout",
     "output_type": "stream",
     "text": [
      "Top 3 Negative features:\n",
      "[('Temp<20.61', -1.1694187919046808), ('Temp>20.61', -1.1694187919046808), ('light>119.51', -2.5831395515215916)]\n"
     ]
    }
   ],
   "source": [
    "print(\"Top 3 Negative features:\")\n",
    "print (sorted(negative_features,key=lambda x:x[1],reverse=True)[:3])"
   ]
  }
 ],
 "metadata": {
  "anaconda-cloud": {},
  "kernelspec": {
   "display_name": "Python 3",
   "language": "python",
   "name": "python3"
  },
  "language_info": {
   "codemirror_mode": {
    "name": "ipython",
    "version": 3
   },
   "file_extension": ".py",
   "mimetype": "text/x-python",
   "name": "python",
   "nbconvert_exporter": "python",
   "pygments_lexer": "ipython3",
   "version": "3.6.0"
  }
 },
 "nbformat": 4,
 "nbformat_minor": 2
}
